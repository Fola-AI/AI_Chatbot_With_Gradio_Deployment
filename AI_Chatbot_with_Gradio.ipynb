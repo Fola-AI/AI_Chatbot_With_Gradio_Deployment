{
 "cells": [
  {
   "cell_type": "markdown",
   "id": "b94cb10d-f381-479f-9dad-ec654de32aec",
   "metadata": {},
   "source": [
    "# Conversation AI chatbot with Gradio"
   ]
  },
  {
   "cell_type": "code",
   "execution_count": 1,
   "id": "cf39d8a6-ff52-4cf4-b81c-59c6a0b81c07",
   "metadata": {},
   "outputs": [],
   "source": [
    "# imports\n",
    "\n",
    "import os\n",
    "from dotenv import load_dotenv\n",
    "from openai import OpenAI\n",
    "import gradio as gr"
   ]
  },
  {
   "cell_type": "code",
   "execution_count": 2,
   "id": "9b61fa8b-0cf3-4771-b953-d6f488bd3630",
   "metadata": {},
   "outputs": [],
   "source": [
    "# Load environment variables in a file called .env\n",
    "\n",
    "load_dotenv(override=True)\n",
    "openai_api_key = os.getenv('OPENAI_API_KEY')\n",
    "anthropic_api_key = os.getenv('ANTHROPIC_API_KEY')\n",
    "# google_api_key = os.getenv('GOOGLE_API_KEY') "
   ]
  },
  {
   "cell_type": "code",
   "execution_count": 3,
   "id": "f696f0ff-ac9e-4c6f-80b6-3e26e107f800",
   "metadata": {},
   "outputs": [],
   "source": [
    "# Initialize\n",
    "\n",
    "openai = OpenAI()\n",
    "MODEL = 'gpt-4o-mini'"
   ]
  },
  {
   "cell_type": "code",
   "execution_count": 4,
   "id": "ac8144e3-c613-4df9-870e-e2e64b95af37",
   "metadata": {},
   "outputs": [],
   "source": [
    "system_message = \"You are a helpful assistant\""
   ]
  },
  {
   "cell_type": "markdown",
   "id": "58ebd993-ae3d-42ac-bb92-9194605c0c28",
   "metadata": {},
   "source": [
    "Gradio expects to receive history in a particular format, which we need to map to the OpenAI format before we call OpenAI:\n",
    "```\n",
    "[\n",
    "    {\"role\": \"system\", \"content\": \"system message here\"},\n",
    "    {\"role\": \"user\", \"content\": \"first user prompt here\"},\n",
    "    {\"role\": \"assistant\", \"content\": \"the assistant's response\"},\n",
    "    {\"role\": \"user\", \"content\": \"the new user prompt\"},\n",
    "]\n",
    "```\n",
    "\n",
    "We will write a function `chat(message, history)` where:  \n",
    "**message** is the prompt to use  \n",
    "**history** is the past conversation, in OpenAI format  \n",
    "\n",
    "We will combine the system message, history and latest message, then call OpenAI."
   ]
  },
  {
   "cell_type": "code",
   "execution_count": 5,
   "id": "2c6a0f3e-8ac0-4156-b32c-c3dfe80d121f",
   "metadata": {},
   "outputs": [],
   "source": [
    "def chat(message, history):\n",
    "    messages = [{\"role\": \"system\", \"content\": system_message}] + history + [{\"role\": \"user\", \"content\": message}]\n",
    "\n",
    "    print(\"History is:\")\n",
    "    print(history)\n",
    "    print(\"And messages is:\")\n",
    "    print(messages)\n",
    "\n",
    "    stream = openai.chat.completions.create(model=MODEL, messages=messages, stream=True)\n",
    "\n",
    "    response = \"\"\n",
    "    for chunk in stream:\n",
    "        response += chunk.choices[0].delta.content or ''\n",
    "        yield response"
   ]
  },
  {
   "cell_type": "markdown",
   "id": "1d16580d-7a14-49b9-87d2-a33044a330c9",
   "metadata": {},
   "source": [
    "## Over to Gradio"
   ]
  },
  {
   "cell_type": "code",
   "execution_count": 7,
   "id": "1cd08b4d-a45b-4cea-9021-8d6528a60b4f",
   "metadata": {},
   "outputs": [
    {
     "name": "stdout",
     "output_type": "stream",
     "text": [
      "* Running on local URL:  http://127.0.0.1:7864\n",
      "* Running on public URL: https://5297b80e215681536c.gradio.live\n",
      "\n",
      "This share link expires in 1 week. For free permanent hosting and GPU upgrades, run `gradio deploy` from the terminal in the working directory to deploy to Hugging Face Spaces (https://huggingface.co/spaces)\n"
     ]
    },
    {
     "data": {
      "text/html": [
       "<div><iframe src=\"https://5297b80e215681536c.gradio.live\" width=\"100%\" height=\"500\" allow=\"autoplay; camera; microphone; clipboard-read; clipboard-write;\" frameborder=\"0\" allowfullscreen></iframe></div>"
      ],
      "text/plain": [
       "<IPython.core.display.HTML object>"
      ]
     },
     "metadata": {},
     "output_type": "display_data"
    },
    {
     "data": {
      "text/plain": []
     },
     "execution_count": 7,
     "metadata": {},
     "output_type": "execute_result"
    },
    {
     "name": "stdout",
     "output_type": "stream",
     "text": [
      "History is:\n",
      "[]\n",
      "And messages is:\n",
      "[{'role': 'system', 'content': 'You are a helpful assistant'}, {'role': 'user', 'content': 'Hello'}]\n",
      "History is:\n",
      "[{'role': 'user', 'metadata': None, 'content': 'Hello', 'options': None}, {'role': 'assistant', 'metadata': None, 'content': 'Hello! How can I assist you today?', 'options': None}]\n",
      "And messages is:\n",
      "[{'role': 'system', 'content': 'You are a helpful assistant'}, {'role': 'user', 'metadata': None, 'content': 'Hello', 'options': None}, {'role': 'assistant', 'metadata': None, 'content': 'Hello! How can I assist you today?', 'options': None}, {'role': 'user', 'content': 'Can I ask you anything?'}]\n",
      "History is:\n",
      "[{'role': 'user', 'metadata': None, 'content': 'Hello', 'options': None}, {'role': 'assistant', 'metadata': None, 'content': 'Hello! How can I assist you today?', 'options': None}, {'role': 'user', 'metadata': None, 'content': 'Can I ask you anything?', 'options': None}, {'role': 'assistant', 'metadata': None, 'content': \"Absolutely! Feel free to ask me anything, and I'll do my best to help you. What’s on your mind?\", 'options': None}]\n",
      "And messages is:\n",
      "[{'role': 'system', 'content': 'You are a helpful assistant'}, {'role': 'user', 'metadata': None, 'content': 'Hello', 'options': None}, {'role': 'assistant', 'metadata': None, 'content': 'Hello! How can I assist you today?', 'options': None}, {'role': 'user', 'metadata': None, 'content': 'Can I ask you anything?', 'options': None}, {'role': 'assistant', 'metadata': None, 'content': \"Absolutely! Feel free to ask me anything, and I'll do my best to help you. What’s on your mind?\", 'options': None}, {'role': 'user', 'content': 'Arsenal vs Liverpool'}]\n",
      "History is:\n",
      "[{'role': 'user', 'metadata': None, 'content': 'Hello', 'options': None}, {'role': 'assistant', 'metadata': None, 'content': 'Hello! How can I assist you today?', 'options': None}, {'role': 'user', 'metadata': None, 'content': 'Can I ask you anything?', 'options': None}, {'role': 'assistant', 'metadata': None, 'content': \"Absolutely! Feel free to ask me anything, and I'll do my best to help you. What’s on your mind?\", 'options': None}, {'role': 'user', 'metadata': None, 'content': 'Arsenal vs Liverpool', 'options': None}, {'role': 'assistant', 'metadata': None, 'content': 'Arsenal and Liverpool are two of the most successful and popular football clubs in England. Matches between them, often referred to as a Premier League clash, tend to be highly competitive and exciting.\\n\\nIf you have a specific aspect in mind—such as the history of their encounters, recent match results, player performances, or upcoming fixtures—please let me know!', 'options': None}]\n",
      "And messages is:\n",
      "[{'role': 'system', 'content': 'You are a helpful assistant'}, {'role': 'user', 'metadata': None, 'content': 'Hello', 'options': None}, {'role': 'assistant', 'metadata': None, 'content': 'Hello! How can I assist you today?', 'options': None}, {'role': 'user', 'metadata': None, 'content': 'Can I ask you anything?', 'options': None}, {'role': 'assistant', 'metadata': None, 'content': \"Absolutely! Feel free to ask me anything, and I'll do my best to help you. What’s on your mind?\", 'options': None}, {'role': 'user', 'metadata': None, 'content': 'Arsenal vs Liverpool', 'options': None}, {'role': 'assistant', 'metadata': None, 'content': 'Arsenal and Liverpool are two of the most successful and popular football clubs in England. Matches between them, often referred to as a Premier League clash, tend to be highly competitive and exciting.\\n\\nIf you have a specific aspect in mind—such as the history of their encounters, recent match results, player performances, or upcoming fixtures—please let me know!', 'options': None}, {'role': 'user', 'content': 'Recent macth'}]\n",
      "History is:\n",
      "[{'role': 'user', 'metadata': None, 'content': 'Hello', 'options': None}, {'role': 'assistant', 'metadata': None, 'content': 'Hello! How can I assist you today?', 'options': None}, {'role': 'user', 'metadata': None, 'content': 'Can I ask you anything?', 'options': None}, {'role': 'assistant', 'metadata': None, 'content': \"Absolutely! Feel free to ask me anything, and I'll do my best to help you. What’s on your mind?\", 'options': None}, {'role': 'user', 'metadata': None, 'content': 'Arsenal vs Liverpool', 'options': None}, {'role': 'assistant', 'metadata': None, 'content': 'Arsenal and Liverpool are two of the most successful and popular football clubs in England. Matches between them, often referred to as a Premier League clash, tend to be highly competitive and exciting.\\n\\nIf you have a specific aspect in mind—such as the history of their encounters, recent match results, player performances, or upcoming fixtures—please let me know!', 'options': None}, {'role': 'user', 'metadata': None, 'content': 'Recent macth', 'options': None}, {'role': 'assistant', 'metadata': None, 'content': \"As of my last update, the most recent match between Arsenal and Liverpool in the Premier League took place on October 9, 2022, at the Emirates Stadium, where Arsenal won 3-2. The game was notable for its intense atmosphere and competitive edge, marking a significant victory for Arsenal against one of their traditional rivals.\\n\\nIf you're looking for a match that occurred after October 2022, I don't have that information. You may want to check the latest sports news or official Premier League sources for the most current results. Would you like to know more about their historical encounters or any specific players?\", 'options': None}]\n",
      "And messages is:\n",
      "[{'role': 'system', 'content': 'You are a helpful assistant'}, {'role': 'user', 'metadata': None, 'content': 'Hello', 'options': None}, {'role': 'assistant', 'metadata': None, 'content': 'Hello! How can I assist you today?', 'options': None}, {'role': 'user', 'metadata': None, 'content': 'Can I ask you anything?', 'options': None}, {'role': 'assistant', 'metadata': None, 'content': \"Absolutely! Feel free to ask me anything, and I'll do my best to help you. What’s on your mind?\", 'options': None}, {'role': 'user', 'metadata': None, 'content': 'Arsenal vs Liverpool', 'options': None}, {'role': 'assistant', 'metadata': None, 'content': 'Arsenal and Liverpool are two of the most successful and popular football clubs in England. Matches between them, often referred to as a Premier League clash, tend to be highly competitive and exciting.\\n\\nIf you have a specific aspect in mind—such as the history of their encounters, recent match results, player performances, or upcoming fixtures—please let me know!', 'options': None}, {'role': 'user', 'metadata': None, 'content': 'Recent macth', 'options': None}, {'role': 'assistant', 'metadata': None, 'content': \"As of my last update, the most recent match between Arsenal and Liverpool in the Premier League took place on October 9, 2022, at the Emirates Stadium, where Arsenal won 3-2. The game was notable for its intense atmosphere and competitive edge, marking a significant victory for Arsenal against one of their traditional rivals.\\n\\nIf you're looking for a match that occurred after October 2022, I don't have that information. You may want to check the latest sports news or official Premier League sources for the most current results. Would you like to know more about their historical encounters or any specific players?\", 'options': None}, {'role': 'user', 'content': \"Where do you reckon I'll be able to get data related to Nigeri\"}]\n"
     ]
    }
   ],
   "source": [
    "gr.ChatInterface(fn=chat, type=\"messages\").launch(share=True)"
   ]
  },
  {
   "cell_type": "markdown",
   "id": "305b4acb-41c3-4d47-81a3-f86f7b25fa7e",
   "metadata": {},
   "source": [
    "## Beefing up the program"
   ]
  },
  {
   "cell_type": "code",
   "execution_count": 11,
   "id": "5ac0573f-f6bc-451a-8999-b25dfa8b618b",
   "metadata": {},
   "outputs": [],
   "source": [
    "system_message = \"You are a helpful assistant in a clothes store. You should try to gently encourage \\\n",
    "the customer to try items that are on sale. Hats are 60% off, and most other items are 50% off. \\\n",
    "For example, if the customer says 'I'm looking to buy a hat', \\\n",
    "you could reply something like, 'Wonderful - we have lots of hats - including several that are part of our sales event.'\\\n",
    "Encourage the customer to buy hats if they are unsure what to get.\\\n",
    "f the customer asks for shoes, you should respond that shoes are not on sale today, \\\n",
    "but remind the customer to look at hats!\""
   ]
  },
  {
   "cell_type": "code",
   "execution_count": 9,
   "id": "cc307ade-aa84-459a-971f-c7d751d8ea7a",
   "metadata": {},
   "outputs": [],
   "source": [
    "def chat(message, history):\n",
    "    messages = [{\"role\": \"system\", \"content\": system_message}] + history + [{\"role\": \"user\", \"content\": message}]\n",
    "\n",
    "    stream = openai.chat.completions.create(model=MODEL, messages=messages, stream=True)\n",
    "\n",
    "    response = \"\"\n",
    "    for chunk in stream:\n",
    "        response += chunk.choices[0].delta.content or ''\n",
    "        yield response"
   ]
  },
  {
   "cell_type": "code",
   "execution_count": 10,
   "id": "441431d1-eae7-436a-8911-1778481310e4",
   "metadata": {},
   "outputs": [
    {
     "name": "stdout",
     "output_type": "stream",
     "text": [
      "* Running on local URL:  http://127.0.0.1:7873\n",
      "* To create a public link, set `share=True` in `launch()`.\n"
     ]
    },
    {
     "data": {
      "text/html": [
       "<div><iframe src=\"http://127.0.0.1:7873/\" width=\"100%\" height=\"500\" allow=\"autoplay; camera; microphone; clipboard-read; clipboard-write;\" frameborder=\"0\" allowfullscreen></iframe></div>"
      ],
      "text/plain": [
       "<IPython.core.display.HTML object>"
      ]
     },
     "metadata": {},
     "output_type": "display_data"
    },
    {
     "data": {
      "text/plain": []
     },
     "execution_count": 10,
     "metadata": {},
     "output_type": "execute_result"
    }
   ],
   "source": [
    "gr.ChatInterface(fn=chat, type=\"messages\").launch()"
   ]
  },
  {
   "cell_type": "code",
   "execution_count": null,
   "id": "d679401d-8e63-4e56-b770-4673a604bbac",
   "metadata": {},
   "outputs": [],
   "source": []
  },
  {
   "cell_type": "code",
   "execution_count": null,
   "id": "b8e80274-1385-4a43-a758-1461e8abb0a5",
   "metadata": {},
   "outputs": [],
   "source": []
  },
  {
   "cell_type": "code",
   "execution_count": null,
   "id": "ed8f94f5-c23c-4811-8ddd-a82e0180109d",
   "metadata": {},
   "outputs": [],
   "source": []
  },
  {
   "cell_type": "code",
   "execution_count": null,
   "id": "89a5a5f7-78ca-4fa5-b9e7-c4bcd826a0a8",
   "metadata": {},
   "outputs": [],
   "source": []
  }
 ],
 "metadata": {
  "kernelspec": {
   "display_name": "Python 3 (ipykernel)",
   "language": "python",
   "name": "python3"
  },
  "language_info": {
   "codemirror_mode": {
    "name": "ipython",
    "version": 3
   },
   "file_extension": ".py",
   "mimetype": "text/x-python",
   "name": "python",
   "nbconvert_exporter": "python",
   "pygments_lexer": "ipython3",
   "version": "3.13.5"
  }
 },
 "nbformat": 4,
 "nbformat_minor": 5
}
